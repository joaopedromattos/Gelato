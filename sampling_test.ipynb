{
 "cells": [
  {
   "cell_type": "code",
   "execution_count": 1,
   "metadata": {},
   "outputs": [
    {
     "name": "stderr",
     "output_type": "stream",
     "text": [
      "/home/jrm28/.conda/envs/gelato/lib/python3.9/site-packages/tqdm/auto.py:22: TqdmWarning: IProgress not found. Please update jupyter and ipywidgets. See https://ipywidgets.readthedocs.io/en/stable/user_install.html\n",
      "  from .autonotebook import tqdm as notebook_tqdm\n"
     ]
    }
   ],
   "source": [
    "import torch\n",
    "import torch_geometric as pyg\n",
    "import numpy as np\n"
   ]
  },
  {
   "cell_type": "code",
   "execution_count": 52,
   "metadata": {},
   "outputs": [
    {
     "data": {
      "text/plain": [
       "{0: [1],\n",
       " 1: [1],\n",
       " 2: [1],\n",
       " 3: [1],\n",
       " 4: [1],\n",
       " 5: [1],\n",
       " 6: [1],\n",
       " 7: [1],\n",
       " 8: [1],\n",
       " 9: [1],\n",
       " 10: [1],\n",
       " 11: [1]}"
      ]
     },
     "execution_count": 52,
     "metadata": {},
     "output_type": "execute_result"
    }
   ],
   "source": [
    "{key: [1] for key in np.unique(r)}"
   ]
  },
  {
   "cell_type": "code",
   "execution_count": 53,
   "metadata": {},
   "outputs": [],
   "source": [
    "l = np.array([[0, 1], [1, 4], [1, 5], [1, 6], [0, 2], [2, 7], [0, 3], [3, 8], [3, 9], [3, 10], [3, 11]]).transpose()\n",
    "r = np.array([l[1, :], l[0, :]])\n",
    "edge_index = torch.from_numpy(r)\n",
    "\n",
    "train_loader = pyg.loader.NeighborSampler(edge_index,\n",
    "                               sizes={key: 1 for key in np.unique(r)}, batch_size=1)\n",
    "\n",
    "\n",
    "# train_loader = pyg.loader.NeighborLoader(edge_index,\n",
    "#                                 num_neighbors={key: [1] * 2 for key in np.unique(r)}, batch_size=1, input_nodes=None)\n",
    "                            \n",
    "                               "
   ]
  },
  {
   "cell_type": "code",
   "execution_count": 62,
   "metadata": {},
   "outputs": [
    {
     "data": {
      "text/plain": [
       "(1,\n",
       " tensor([ 0,  1,  3,  5,  4,  2,  6, 11, 10,  8,  9,  7]),\n",
       " [EdgeIndex(edge_index=tensor([[ 1,  2,  5,  3,  4,  6,  7,  8,  9, 10, 11],\n",
       "          [ 0,  0,  0,  1,  1,  1,  2,  2,  2,  2,  5]]), e_id=tensor([ 0,  6,  4,  2,  1,  3, 10,  9,  7,  8,  5]), size=(12, 12)),\n",
       "  EdgeIndex(edge_index=tensor([[ 1,  2,  5,  3,  4,  6,  7,  8,  9, 10, 11],\n",
       "          [ 0,  0,  0,  1,  1,  1,  2,  2,  2,  2,  5]]), e_id=tensor([ 0,  6,  4,  2,  1,  3, 10,  9,  7,  8,  5]), size=(12, 12)),\n",
       "  EdgeIndex(edge_index=tensor([[ 1,  2,  5,  3,  4,  6,  7,  8,  9, 10, 11],\n",
       "          [ 0,  0,  0,  1,  1,  1,  2,  2,  2,  2,  5]]), e_id=tensor([ 0,  6,  4,  2,  1,  3, 10,  9,  7,  8,  5]), size=(12, 12)),\n",
       "  EdgeIndex(edge_index=tensor([[ 1,  2,  5,  3,  4,  6,  7,  8,  9, 10, 11],\n",
       "          [ 0,  0,  0,  1,  1,  1,  2,  2,  2,  2,  5]]), e_id=tensor([ 0,  6,  4,  2,  1,  3, 10,  9,  7,  8,  5]), size=(12, 12)),\n",
       "  EdgeIndex(edge_index=tensor([[ 1,  2,  5,  3,  4,  6,  7,  8,  9, 10, 11],\n",
       "          [ 0,  0,  0,  1,  1,  1,  2,  2,  2,  2,  5]]), e_id=tensor([ 0,  6,  4,  2,  1,  3, 10,  9,  7,  8,  5]), size=(12, 12)),\n",
       "  EdgeIndex(edge_index=tensor([[ 1,  2,  5,  3,  4,  6,  7,  8,  9, 10, 11],\n",
       "          [ 0,  0,  0,  1,  1,  1,  2,  2,  2,  2,  5]]), e_id=tensor([ 0,  6,  4,  2,  1,  3, 10,  9,  7,  8,  5]), size=(12, 12)),\n",
       "  EdgeIndex(edge_index=tensor([[ 1,  2,  5,  3,  4,  6,  7,  8,  9, 10, 11],\n",
       "          [ 0,  0,  0,  1,  1,  1,  2,  2,  2,  2,  5]]), e_id=tensor([ 0,  6,  4,  2,  1,  3, 10,  9,  7,  8,  5]), size=(12, 12)),\n",
       "  EdgeIndex(edge_index=tensor([[ 1,  2,  5,  3,  4,  6,  7,  8,  9, 10, 11],\n",
       "          [ 0,  0,  0,  1,  1,  1,  2,  2,  2,  2,  5]]), e_id=tensor([ 0,  6,  4,  2,  1,  3, 10,  9,  7,  8,  5]), size=(12, 10)),\n",
       "  EdgeIndex(edge_index=tensor([[1, 2, 5, 3, 4, 6, 7, 8, 9],\n",
       "          [0, 0, 0, 1, 1, 1, 2, 2, 2]]), e_id=tensor([ 0,  6,  4,  2,  1,  3, 10,  9,  7]), size=(10, 5)),\n",
       "  EdgeIndex(edge_index=tensor([[1, 2, 3, 4],\n",
       "          [0, 0, 1, 1]]), e_id=tensor([0, 6, 2, 1]), size=(5, 2)),\n",
       "  EdgeIndex(edge_index=tensor([[1],\n",
       "          [0]]), e_id=tensor([0]), size=(2, 1)),\n",
       "  EdgeIndex(edge_index=tensor([], size=(2, 0), dtype=torch.int64), e_id=tensor([], dtype=torch.int64), size=(1, 1))])"
      ]
     },
     "execution_count": 62,
     "metadata": {},
     "output_type": "execute_result"
    }
   ],
   "source": [
    "train_loader.sample([0])"
   ]
  },
  {
   "cell_type": "code",
   "execution_count": 24,
   "metadata": {},
   "outputs": [],
   "source": [
    "def new_degree(edge_index, num_nodes, out=True):\n",
    "    return pyg.utils.degree(edge_index[0 if out else 1], num_nodes)   \n"
   ]
  },
  {
   "cell_type": "code",
   "execution_count": 28,
   "metadata": {},
   "outputs": [
    {
     "data": {
      "text/plain": [
       "12"
      ]
     },
     "execution_count": 28,
     "metadata": {},
     "output_type": "execute_result"
    }
   ],
   "source": [
    "len(np.unique(r))"
   ]
  },
  {
   "cell_type": "code",
   "execution_count": 32,
   "metadata": {},
   "outputs": [
    {
     "data": {
      "text/plain": [
       "tensor([0.3333, 0.3333, 1.0000, 0.2500,    inf,    inf,    inf,    inf,    inf,\n",
       "           inf,    inf,    inf])"
      ]
     },
     "execution_count": 32,
     "metadata": {},
     "output_type": "execute_result"
    }
   ],
   "source": [
    "1 / new_degree(edge_index, len(np.unique(r)), False)"
   ]
  },
  {
   "cell_type": "code",
   "execution_count": null,
   "metadata": {},
   "outputs": [],
   "source": []
  }
 ],
 "metadata": {
  "kernelspec": {
   "display_name": "Python 3.9.7 ('gelato')",
   "language": "python",
   "name": "python3"
  },
  "language_info": {
   "codemirror_mode": {
    "name": "ipython",
    "version": 3
   },
   "file_extension": ".py",
   "mimetype": "text/x-python",
   "name": "python",
   "nbconvert_exporter": "python",
   "pygments_lexer": "ipython3",
   "version": "3.9.15"
  },
  "orig_nbformat": 4,
  "vscode": {
   "interpreter": {
    "hash": "4762024396ae022be5cc30968dc74418e5d4ce3c93b013718e4578fbe9cf2227"
   }
  }
 },
 "nbformat": 4,
 "nbformat_minor": 2
}
